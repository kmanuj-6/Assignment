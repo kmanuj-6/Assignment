{
 "cells": [
  {
   "cell_type": "code",
   "execution_count": 60,
   "id": "2e8e7ed6",
   "metadata": {},
   "outputs": [
    {
     "name": "stdout",
     "output_type": "stream",
     "text": [
      "10\n",
      "10\n"
     ]
    }
   ],
   "source": [
    "# Accepting input from the user and assigning it to variable x\n",
    "x = input()\n",
    "print(x)"
   ]
  },
  {
   "cell_type": "code",
   "execution_count": 59,
   "id": "e747553a",
   "metadata": {},
   "outputs": [
    {
     "name": "stdout",
     "output_type": "stream",
     "text": [
      "<class 'str'>\n",
      "10\n",
      "<class 'str'>\n",
      "3.14\n",
      "<class 'str'>\n",
      "Anuj Kumar Mondal\n",
      "<class 'str'>\n"
     ]
    }
   ],
   "source": [
    "# Checking the data type of x\n",
    "print(type(x))\n",
    "x=input()\n",
    "print(type(x))\n",
    "y=input()\n",
    "print(type(y))\n",
    "z=input('')\n",
    "print(type(z))"
   ]
  },
  {
   "cell_type": "code",
   "execution_count": 16,
   "id": "3f1ac281",
   "metadata": {},
   "outputs": [
    {
     "name": "stdout",
     "output_type": "stream",
     "text": [
      "10\n"
     ]
    }
   ],
   "source": [
    "# Converting x to integer and assigning it to variable y\n",
    "y = int(x)\n",
    "print(x)"
   ]
  },
  {
   "cell_type": "code",
   "execution_count": 23,
   "id": "3c9e57a6",
   "metadata": {},
   "outputs": [
    {
     "name": "stdout",
     "output_type": "stream",
     "text": [
      "10.0\n",
      "<class 'float'>\n"
     ]
    }
   ],
   "source": [
    "# Converting x to float and assigning it to variable z\n",
    "z = float(x)\n",
    "print(z)\n",
    "print(type(z))"
   ]
  },
  {
   "cell_type": "code",
   "execution_count": 24,
   "id": "e5ba256b",
   "metadata": {},
   "outputs": [
    {
     "name": "stdout",
     "output_type": "stream",
     "text": [
      "<class 'str'>\n",
      "<class 'int'>\n",
      "<class 'float'>\n"
     ]
    }
   ],
   "source": [
    "# Displaying the data types of x, y, and z\n",
    "# Displaying the data types of x, y, and z\n",
    "print(type(x))\n",
    "print(type(y))\n",
    "print(type(z))"
   ]
  },
  {
   "cell_type": "code",
   "execution_count": 58,
   "id": "fc82bacb",
   "metadata": {},
   "outputs": [
    {
     "name": "stdout",
     "output_type": "stream",
     "text": [
      "I love Jahangirnagar University\n",
      "31\n"
     ]
    }
   ],
   "source": [
    "#Calculate the length of a string:\n",
    "string = input()\n",
    "length = len(string)\n",
    "print(length)"
   ]
  },
  {
   "cell_type": "code",
   "execution_count": 57,
   "id": "2bfff150",
   "metadata": {},
   "outputs": [
    {
     "name": "stdout",
     "output_type": "stream",
     "text": [
      "Department of Statistics\n",
      "24\n"
     ]
    }
   ],
   "source": [
    "#Count the number of characters in a string:\n",
    "string = input(\"\")\n",
    "count = len(string)\n",
    "print(count)"
   ]
  },
  {
   "cell_type": "code",
   "execution_count": 56,
   "id": "ff492fcb",
   "metadata": {},
   "outputs": [
    {
     "name": "stdout",
     "output_type": "stream",
     "text": [
      "I am student of weekend program under statistic Department\n",
      " I am student of weekend program under statistic Department\n"
     ]
    },
    {
     "ename": "ValueError",
     "evalue": "invalid literal for int() with base 10: 'I am student of weekend program under statistic Department'",
     "output_type": "error",
     "traceback": [
      "\u001b[1;31m---------------------------------------------------------------------------\u001b[0m",
      "\u001b[1;31mValueError\u001b[0m                                Traceback (most recent call last)",
      "Cell \u001b[1;32mIn[56], line 3\u001b[0m\n\u001b[0;32m      1\u001b[0m \u001b[38;5;66;03m#Remove the kth index character from a string:\u001b[39;00m\n\u001b[0;32m      2\u001b[0m string \u001b[38;5;241m=\u001b[39m \u001b[38;5;28minput\u001b[39m(\u001b[38;5;124m\"\u001b[39m\u001b[38;5;124m\"\u001b[39m)\n\u001b[1;32m----> 3\u001b[0m k \u001b[38;5;241m=\u001b[39m \u001b[38;5;28;43mint\u001b[39;49m\u001b[43m(\u001b[49m\u001b[38;5;28;43minput\u001b[39;49m\u001b[43m(\u001b[49m\u001b[38;5;124;43m\"\u001b[39;49m\u001b[38;5;124;43m \u001b[39;49m\u001b[38;5;124;43m\"\u001b[39;49m\u001b[43m)\u001b[49m\u001b[43m)\u001b[49m\n\u001b[0;32m      4\u001b[0m new_string \u001b[38;5;241m=\u001b[39m string[:k] \u001b[38;5;241m+\u001b[39m string[k\u001b[38;5;241m+\u001b[39m\u001b[38;5;241m1\u001b[39m:]\n\u001b[0;32m      5\u001b[0m \u001b[38;5;28mprint\u001b[39m(new_string)\n",
      "\u001b[1;31mValueError\u001b[0m: invalid literal for int() with base 10: 'I am student of weekend program under statistic Department'"
     ]
    }
   ],
   "source": [
    " #Remove the kth index character from a string:\n",
    "string = input(\"\")\n",
    "k = int(input(\" \"))\n",
    "new_string = string[:k] + string[k+1:]\n",
    "print(new_string)"
   ]
  },
  {
   "cell_type": "code",
   "execution_count": 55,
   "id": "87dc089e",
   "metadata": {},
   "outputs": [
    {
     "name": "stdout",
     "output_type": "stream",
     "text": [
      " We want to release some pressure\n",
      "W att ees oepesr\n"
     ]
    }
   ],
   "source": [
    "#Remove the characters which have odd index values of a given string:\n",
    "string = input(\" \")\n",
    "new_string = \"\"\n",
    "for i in range(len(string)):\n",
    "    if i % 2 == 0:\n",
    "        new_string += string[i]\n",
    "print(new_string)"
   ]
  },
  {
   "cell_type": "code",
   "execution_count": 39,
   "id": "82f40a24",
   "metadata": {},
   "outputs": [
    {
     "name": "stdout",
     "output_type": "stream",
     "text": [
      "We love The Department for open the Course name 'Data Science'\n",
      "WE LOVE THE DEPARTMENT FOR OPEN THE COURSE NAME 'DATA SCIENCE'\n",
      "we love the department for open the course name 'data science'\n"
     ]
    }
   ],
   "source": [
    "#Take input from the user and display it back in upper and lower cases:\n",
    "string = input(\"\")\n",
    "print(string.upper())\n",
    "print(string.lower())\n"
   ]
  },
  {
   "cell_type": "code",
   "execution_count": 54,
   "id": "1bdc1ffb",
   "metadata": {},
   "outputs": [
    {
     "name": "stdout",
     "output_type": "stream",
     "text": [
      "we should not miss the python class\n",
      "      acdeehhhillmnnooopssssstttuwy\n"
     ]
    }
   ],
   "source": [
    "#Sort a string:\n",
    "string = input(\"\")\n",
    "sorted_string = ''.join(sorted(string))\n",
    "print(sorted_string)\n"
   ]
  },
  {
   "cell_type": "code",
   "execution_count": 42,
   "id": "1767074e",
   "metadata": {},
   "outputs": [
    {
     "name": "stdout",
     "output_type": "stream",
     "text": [
      "I want to be a top class researcher\n",
      " rehcraeser ssalc pot a eb ot tnaw I\n"
     ]
    }
   ],
   "source": [
    " #Reverse a string:\n",
    "string = input(\"\")\n",
    "reversed_string = string[::-1]\n",
    "print(reversed_string)\n"
   ]
  },
  {
   "cell_type": "code",
   "execution_count": 53,
   "id": "fc4f7c68",
   "metadata": {},
   "outputs": [
    {
     "name": "stdout",
     "output_type": "stream",
     "text": [
      "Our Bus is very fast and some times, missed it\n",
      "['O', 'u', 'r', ' ', 'B', 'u', 's', ' ', 'i', 's', ' ', 'v', 'e', 'r', 'y', ' ', 'f', 'a', 's', 't', ' ', 'a', 'n', 'd', ' ', 's', 'o', 'm', 'e', ' ', 't', 'i', 'm', 'e', 's', ',', ' ', 'm', 'i', 's', 's', 'e', 'd', ' ', 'i', 't']\n"
     ]
    }
   ],
   "source": [
    "#Convert a given string into a list:\n",
    "string = input(\"\")\n",
    "string_list = list(string)\n",
    "print(string_list)\n"
   ]
  },
  {
   "cell_type": "code",
   "execution_count": 52,
   "id": "e6ab4cd2",
   "metadata": {},
   "outputs": [
    {
     "name": "stdout",
     "output_type": "stream",
     "text": [
      "15\n",
      "120\n"
     ]
    }
   ],
   "source": [
    "#Sum (or product) all the items in a list:\n",
    "numbers = [1, 2, 3, 4, 5]\n",
    "sum_result = sum(numbers)\n",
    "product_result = 1\n",
    "for num in numbers:\n",
    "    product_result *= num\n",
    "print(sum_result)\n",
    "print(product_result)"
   ]
  },
  {
   "cell_type": "code",
   "execution_count": 51,
   "id": "4dce0620",
   "metadata": {},
   "outputs": [
    {
     "name": "stdout",
     "output_type": "stream",
     "text": [
      "5\n",
      "1\n"
     ]
    }
   ],
   "source": [
    "#Get the largest/smallest number from a list:\n",
    "numbers = [1, 2, 3, 4, 5]\n",
    "largest = max(numbers)\n",
    "smallest = min(numbers)\n",
    "print(largest)\n",
    "print(smallest)"
   ]
  },
  {
   "cell_type": "code",
   "execution_count": 50,
   "id": "7b71598e",
   "metadata": {},
   "outputs": [
    {
     "name": "stdout",
     "output_type": "stream",
     "text": [
      "[1, 3, 5, 7, 9]\n"
     ]
    }
   ],
   "source": [
    "#Print the numbers of a specified list after removing even numbers from it:\n",
    "numbers = [1, 2, 3, 4, 5, 6, 7, 8, 9]\n",
    "new_numbers = [num for num in numbers if num % 2 != 0]\n",
    "print(new_numbers)\n"
   ]
  },
  {
   "cell_type": "code",
   "execution_count": 49,
   "id": "f235f4c5",
   "metadata": {},
   "outputs": [
    {
     "name": "stdout",
     "output_type": "stream",
     "text": [
      "[1, 3, 5, 7, 9]\n"
     ]
    }
   ],
   "source": [
    "#Select the odd numbers from a list:\n",
    "numbers = [1, 2, 3, 4, 5, 6, 7, 8, 9]\n",
    "odd_numbers = [num for num in numbers if num % 2 != 0]\n",
    "print(odd_numbers)\n"
   ]
  },
  {
   "cell_type": "code",
   "execution_count": 61,
   "id": "cede0d32",
   "metadata": {},
   "outputs": [
    {
     "name": "stdout",
     "output_type": "stream",
     "text": [
      "Hello\n"
     ]
    }
   ],
   "source": [
    "#Convert a list of characters into a string:\n",
    "characters = ['H', 'e', 'l', 'l', 'o']\n",
    "string = ''.join(characters)\n",
    "print(string)\n"
   ]
  },
  {
   "cell_type": "code",
   "execution_count": 65,
   "id": "5748b728",
   "metadata": {},
   "outputs": [
    {
     "name": "stdout",
     "output_type": "stream",
     "text": [
      "mango 2\n"
     ]
    }
   ],
   "source": [
    "#Find the index of an item in a specified list:\n",
    "fruits = ['apple', 'banana', 'mango', 'orange']\n",
    "item = 'mango'\n",
    "index = fruits.index(item)\n",
    "print(item,index)\n"
   ]
  },
  {
   "cell_type": "code",
   "execution_count": 64,
   "id": "c07c601d",
   "metadata": {},
   "outputs": [
    {
     "name": "stdout",
     "output_type": "stream",
     "text": [
      "[1, 2, 3, 4, 5, 6]\n"
     ]
    }
   ],
   "source": [
    "#Add a list to another list:\n",
    "list1 = [1, 2, 3]\n",
    "list2 = [4, 5, 6]\n",
    "list1.extend(list2)\n",
    "print(list1)\n"
   ]
  },
  {
   "cell_type": "code",
   "execution_count": 66,
   "id": "bc43fd1e",
   "metadata": {},
   "outputs": [
    {
     "name": "stdout",
     "output_type": "stream",
     "text": [
      "[1, 2, 3, 4, 5]\n",
      "{1: 2, 2: 2, 3: 2, 4: 2, 5: 1}\n"
     ]
    }
   ],
   "source": [
    "#Get unique values from a list and count unique values:\n",
    "numbers = [1, 2, 3, 1, 2, 4, 5, 4, 3]\n",
    "unique_values = list(set(numbers))\n",
    "frequency = {num: numbers.count(num) for num in unique_values}\n",
    "print(unique_values)\n",
    "print(frequency)\n"
   ]
  },
  {
   "cell_type": "code",
   "execution_count": 67,
   "id": "997ff121",
   "metadata": {},
   "outputs": [
    {
     "name": "stdout",
     "output_type": "stream",
     "text": [
      "1 [1, 2, 3, 1, 2, 4, 4, 3]\n"
     ]
    }
   ],
   "source": [
    "#Extract elements with frequency greater than K:\n",
    "numbers = [1, 2, 3, 1, 2, 4, 5, 4, 3]\n",
    "k = 1\n",
    "result = [num for num in numbers if numbers.count(num) > k]\n",
    "print( k,result)\n"
   ]
  },
  {
   "cell_type": "code",
   "execution_count": 68,
   "id": "24affa98",
   "metadata": {},
   "outputs": [
    {
     "name": "stdout",
     "output_type": "stream",
     "text": [
      "['olleH', 'dlroW', 'nohtyP']\n"
     ]
    }
   ],
   "source": [
    "#Reverse all strings in a string list:\n",
    "strings = ['Hello', 'World', 'Python']\n",
    "reversed_strings = [string[::-1] for string in strings]\n",
    "print(reversed_strings)\n"
   ]
  },
  {
   "cell_type": "code",
   "execution_count": 3,
   "id": "4cc38095",
   "metadata": {},
   "outputs": [
    {
     "name": "stdout",
     "output_type": "stream",
     "text": [
      "{'names': ['Mango', 'Lemon'], 'color': ['yellow', 'green'], 'taste': ['sweet', 'sour']}\n"
     ]
    }
   ],
   "source": [
    "# a) Create a dictionary\n",
    "fruit = {\n",
    "    'names': ['Mango', 'Lemon'],\n",
    "    'color': ['yellow', 'green'],\n",
    "    'taste': ['sweet', 'sour']\n",
    "}\n",
    "print(fruit)"
   ]
  },
  {
   "cell_type": "code",
   "execution_count": 5,
   "id": "b58f8b1a",
   "metadata": {},
   "outputs": [
    {
     "name": "stdout",
     "output_type": "stream",
     "text": [
      "{'names': ['Mango', 'Lemon', 'Apple', 'Apple'], 'color': ['yellow', 'green'], 'taste': ['sweet', 'sour']}\n"
     ]
    }
   ],
   "source": [
    "# b) Add a key to a dictionary\n",
    "fruit['names'].append('Apple')\n",
    "print(fruit)"
   ]
  },
  {
   "cell_type": "code",
   "execution_count": 26,
   "id": "1f592644",
   "metadata": {},
   "outputs": [
    {
     "name": "stdout",
     "output_type": "stream",
     "text": [
      "names\n"
     ]
    }
   ],
   "source": [
    "# c) Check if a key exists in the dictionary\n",
    "key_to_check = 'names'\n",
    "if key_to_check in fruit:\n",
    "    print(key_to_check)\n"
   ]
  },
  {
   "cell_type": "code",
   "execution_count": 31,
   "id": "b0a8ba80",
   "metadata": {},
   "outputs": [
    {
     "name": "stdout",
     "output_type": "stream",
     "text": [
      "{'Mango'}\n"
     ]
    }
   ],
   "source": [
    "# d) Access dictionary key's element by index\n",
    "index_to_access = 0\n",
    "print({fruit['names'][index_to_access]})\n"
   ]
  },
  {
   "cell_type": "code",
   "execution_count": 35,
   "id": "03a192c0",
   "metadata": {},
   "outputs": [
    {
     "name": "stdout",
     "output_type": "stream",
     "text": [
      "\n",
      "['Mango', 'Lemon', 'Apple', 'Apple']\n",
      "['yellow', 'green']\n",
      "['sweet', 'sour']\n"
     ]
    }
   ],
   "source": [
    "# e) Iterate over dictionaries using for loops\n",
    "print()\n",
    "for key, values in fruit.items():\n",
    "    print(values)"
   ]
  },
  {
   "cell_type": "code",
   "execution_count": null,
   "id": "7ac75910",
   "metadata": {},
   "outputs": [],
   "source": [
    "# f) Print a dictionary with square values\n",
    "n = 5\n",
    "squared_dict = {num: num**2 for num in range(1, n+1)}\n",
    "print(\"Dictionary with square values:\")\n",
    "print(squared_dict)"
   ]
  },
  {
   "cell_type": "code",
   "execution_count": null,
   "id": "b2926cf7",
   "metadata": {},
   "outputs": [],
   "source": [
    "# g) Create a dictionary by extracting keys\n",
    "keys_dict = {key: None for key in fruit.keys()}\n",
    "print(\"New dictionary with extracted keys:\")\n",
    "print(keys_dict)"
   ]
  },
  {
   "cell_type": "code",
   "execution_count": null,
   "id": "1e939afd",
   "metadata": {},
   "outputs": [],
   "source": [
    "# h) Rename a key in a dictionary\n",
    "old_key = 'taste'\n",
    "new_key = 'flavor'\n",
    "if old_key in fruit:\n",
    "    fruit[new_key] = fruit.pop(old_key)\n",
    "    print(\"Dictionary with renamed key:\")\n",
    "    print(fruit)"
   ]
  },
  {
   "cell_type": "code",
   "execution_count": null,
   "id": "e26684d0",
   "metadata": {},
   "outputs": [],
   "source": [
    "# i) Print only keys of a dictionary\n",
    "print(\"Keys of the dictionary:\")\n",
    "for key in fruit.keys():\n",
    "    print(key)\n"
   ]
  },
  {
   "cell_type": "code",
   "execution_count": null,
   "id": "d79e2250",
   "metadata": {},
   "outputs": [],
   "source": [
    "# j) Print values of a dictionary\n",
    "print(\"Values of the dictionary:\")\n",
    "for values in fruit.values():\n",
    "    print(values)"
   ]
  }
 ],
 "metadata": {
  "kernelspec": {
   "display_name": "Python 3 (ipykernel)",
   "language": "python",
   "name": "python3"
  },
  "language_info": {
   "codemirror_mode": {
    "name": "ipython",
    "version": 3
   },
   "file_extension": ".py",
   "mimetype": "text/x-python",
   "name": "python",
   "nbconvert_exporter": "python",
   "pygments_lexer": "ipython3",
   "version": "3.10.9"
  }
 },
 "nbformat": 4,
 "nbformat_minor": 5
}
